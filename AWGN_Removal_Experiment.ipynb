{
  "nbformat": 4,
  "nbformat_minor": 0,
  "metadata": {
    "colab": {
      "name": "AWGN-Removal-Experiment.ipynb",
      "provenance": [],
      "collapsed_sections": [],
      "include_colab_link": true
    },
    "kernelspec": {
      "name": "python3",
      "display_name": "Python 3"
    },
    "language_info": {
      "name": "python"
    },
    "accelerator": "GPU"
  },
  "cells": [
    {
      "cell_type": "markdown",
      "metadata": {
        "id": "view-in-github",
        "colab_type": "text"
      },
      "source": [
        "<a href=\"https://colab.research.google.com/github/rpatwardhan7/Recorrupted-to-Recorrupted-Image-Denoising/blob/main/AWGN_Removal_Experiment.ipynb\" target=\"_parent\"><img src=\"https://colab.research.google.com/assets/colab-badge.svg\" alt=\"Open In Colab\"/></a>"
      ]
    },
    {
      "cell_type": "markdown",
      "metadata": {
        "id": "id5eExECiQpa"
      },
      "source": [
        "# AWGN Removal Experiment on BSD"
      ]
    },
    {
      "cell_type": "code",
      "metadata": {
        "colab": {
          "base_uri": "https://localhost:8080/"
        },
        "id": "5a3LhgXuiKCb",
        "outputId": "93d7e9d4-ff2a-4d57-b449-e6edcec5afa3"
      },
      "source": [
        "!git clone https://github.com/cszn/DnCNN.git"
      ],
      "execution_count": null,
      "outputs": [
        {
          "output_type": "stream",
          "name": "stdout",
          "text": [
            "Cloning into 'DnCNN'...\n",
            "remote: Enumerating objects: 946, done.\u001b[K\n",
            "remote: Counting objects: 100% (12/12), done.\u001b[K\n",
            "remote: Compressing objects: 100% (12/12), done.\u001b[K\n",
            "remote: Total 946 (delta 6), reused 0 (delta 0), pack-reused 934\u001b[K\n",
            "Receiving objects: 100% (946/946), 127.72 MiB | 7.41 MiB/s, done.\n",
            "Resolving deltas: 100% (184/184), done.\n"
          ]
        }
      ]
    },
    {
      "cell_type": "code",
      "metadata": {
        "colab": {
          "base_uri": "https://localhost:8080/"
        },
        "id": "VzyFnsRLX0Fz",
        "outputId": "0aad69c6-cd43-42f3-e72e-6f7984871f18"
      },
      "source": [
        "!git clone https://github.com/clausmichele/CBSD68-dataset.git"
      ],
      "execution_count": null,
      "outputs": [
        {
          "output_type": "stream",
          "name": "stdout",
          "text": [
            "Cloning into 'CBSD68-dataset'...\n",
            "remote: Enumerating objects: 564, done.\u001b[K\n",
            "remote: Total 564 (delta 0), reused 0 (delta 0), pack-reused 564\u001b[K\n",
            "Receiving objects: 100% (564/564), 181.30 MiB | 23.70 MiB/s, done.\n",
            "Resolving deltas: 100% (2/2), done.\n"
          ]
        }
      ]
    },
    {
      "cell_type": "code",
      "metadata": {
        "id": "IJ10vUdIbv1v"
      },
      "source": [
        "import matplotlib.pyplot as plt\n",
        "import numpy as np\n",
        "import pandas as pd\n",
        "import cv2\n",
        "from google.colab.patches import cv2_imshow\n",
        "import os\n",
        "import math\n",
        "\n",
        "import torch\n",
        "import torch.nn as nn\n",
        "import torch.optim as optim\n",
        "from torch.utils.data import Dataset\n",
        "from torch.autograd import Variable\n",
        "from torch.utils.data import DataLoader"
      ],
      "execution_count": null,
      "outputs": []
    },
    {
      "cell_type": "code",
      "metadata": {
        "colab": {
          "base_uri": "https://localhost:8080/"
        },
        "id": "lqDWpsQzUZSF",
        "outputId": "3ce9cd7a-ad1b-4598-8905-4852e5b0b40d"
      },
      "source": [
        "device = torch.device(\"cuda:0\" if torch.cuda.is_available() else \"cpu\")\n",
        "print(device)"
      ],
      "execution_count": null,
      "outputs": [
        {
          "output_type": "stream",
          "name": "stdout",
          "text": [
            "cuda:0\n"
          ]
        }
      ]
    },
    {
      "cell_type": "markdown",
      "metadata": {
        "id": "olbnZ1UnifAB"
      },
      "source": [
        "## Collect data"
      ]
    },
    {
      "cell_type": "code",
      "metadata": {
        "id": "Hg9csgVbidwK"
      },
      "source": [
        "data_path = '/content/DnCNN/TrainingCodes/DnCNN_TrainingCodes_v1.0/data/Train400' \n",
        "training_imgs_list = os.listdir(data_path)\n",
        "\n",
        "N = 400\n",
        "H, W = 180, 180\n",
        "\n",
        "clean_images = torch.zeros(N, H, W)\n",
        "\n",
        "for i, img_name in enumerate(training_imgs_list):\n",
        "    full_img_path = data_path + '/' + img_name\n",
        "    img = cv2.imread(full_img_path, 0) / 255.0\n",
        "    clean_images[i] = torch.from_numpy(img)\n",
        "\n",
        "#cv2_imshow(clean_images[16].numpy() * 255.0)"
      ],
      "execution_count": null,
      "outputs": []
    },
    {
      "cell_type": "markdown",
      "metadata": {
        "id": "I_jriD8ivYRV"
      },
      "source": [
        "## AWGN dataset generation"
      ]
    },
    {
      "cell_type": "code",
      "metadata": {
        "id": "EOMn0pNkuFms"
      },
      "source": [
        "NOISE_LEVEL = 25\n",
        "y_tensor = torch.zeros(N, H, W)\n",
        "for i in range(N):\n",
        "    x = clean_images[i]\n",
        "    noise = torch.randn(x.size()).mul_(NOISE_LEVEL/255.0)\n",
        "    y_tensor[i] = x + noise\n",
        "#cv2_imshow(y_tensor[16].numpy() * 255.0)"
      ],
      "execution_count": null,
      "outputs": []
    },
    {
      "cell_type": "markdown",
      "metadata": {
        "id": "GHoWzP-dwTPt"
      },
      "source": [
        "## Recorruption \n",
        "In this section, we construct the training dataset composed of $\\hat{y}$ and $\\tilde{y}$. These values are computed from the y tensor."
      ]
    },
    {
      "cell_type": "code",
      "metadata": {
        "id": "P65vk3anuH3h"
      },
      "source": [
        "from scipy.linalg import sqrtm\n",
        "\n",
        "class R2RDenoisingDataset(Dataset):\n",
        "    def __init__(self, y_tensor, noise_level = 25.0, alpha = 0.5):\n",
        "        '''\n",
        "        Inputs: \n",
        "        - y_tensor: tensor of noisy images (shape N x H x W)\n",
        "        - alpha: parameter of recorruption used in paper (default 0.5)\n",
        "        '''\n",
        "        super(R2RDenoisingDataset, self).__init__()\n",
        "        self.y_tensor = y_tensor\n",
        "        self.Y1 = torch.zeros(N, 1, H, W)\n",
        "        self.Y2 = torch.zeros(N, 1, H, W)\n",
        "        D = alpha * torch.eye(H)\n",
        "        D_inv = torch.eye(H) / alpha\n",
        "        for i in range(len(self.y_tensor)):\n",
        "            z = torch.randn(H, W)\n",
        "            '''\n",
        "            cov = torech.cov(y_tensor[i])\n",
        "            L, V = torch.linalg.eig(cov)\n",
        "            diag = sqrtm(torch.diag(L))\n",
        "            sigma = torch.from_numpy(np.float32(diag))\n",
        "            '''\n",
        "            sigma = (noise_level / 255.0) * torch.eye(H)\n",
        "            A = torch.matmul(sigma, torch.transpose(D, 0, 1))\n",
        "            B = torch.matmul(sigma, D_inv)\n",
        "            self.Y1[i] = torch.unsqueeze(y_tensor[i] + torch.matmul(A, z), 0) #y hat\n",
        "            self.Y2[i] = torch.unsqueeze(y_tensor[i] - torch.matmul(B, z), 0) #y tilde\n",
        "\n",
        "    def __len__(self):\n",
        "        return len(self.y_tensor)\n",
        "\n",
        "    def __getitem__(self, idx):\n",
        "        return self.Y1[idx], self.Y2[idx]"
      ],
      "execution_count": null,
      "outputs": []
    },
    {
      "cell_type": "code",
      "metadata": {
        "id": "JzL_axpn0zar",
        "colab": {
          "base_uri": "https://localhost:8080/"
        },
        "outputId": "deb0aefd-906b-4fd4-fc80-2d02d912f221"
      },
      "source": [
        "ds = R2RDenoisingDataset(y_tensor)\n",
        "print(len(ds))"
      ],
      "execution_count": null,
      "outputs": [
        {
          "output_type": "stream",
          "name": "stdout",
          "text": [
            "400\n"
          ]
        }
      ]
    },
    {
      "cell_type": "markdown",
      "metadata": {
        "id": "TufZ0wJg7Fqe"
      },
      "source": [
        "## Construct Train and Test Datasets"
      ]
    },
    {
      "cell_type": "code",
      "metadata": {
        "id": "UHBo54_n7Eym"
      },
      "source": [
        "train_size = int(0.9 * N)\n",
        "test_size = len(ds) - train_size\n",
        "train_dataset, test_dataset = torch.utils.data.random_split(ds, [train_size, test_size])"
      ],
      "execution_count": null,
      "outputs": []
    },
    {
      "cell_type": "markdown",
      "metadata": {
        "id": "US23g9UUy_-X"
      },
      "source": [
        "## DnCNN model for denoising"
      ]
    },
    {
      "cell_type": "code",
      "metadata": {
        "id": "yPl2ET-67_i5"
      },
      "source": [
        "import torch.nn.init as init\n",
        "from torch.optim.lr_scheduler import MultiStepLR"
      ],
      "execution_count": null,
      "outputs": []
    },
    {
      "cell_type": "code",
      "metadata": {
        "id": "iDkPk6SXtR_A"
      },
      "source": [
        "class R2RDenoisingModel(nn.Module):\n",
        "    def __init__(self, depth=17, n_channels=64, image_channels=1, use_bnorm=True, kernel_size=3):\n",
        "        super(R2RDenoisingModel, self).__init__()\n",
        "        kernel_size = 3\n",
        "        padding = 1\n",
        "        layers = []\n",
        "\n",
        "        layers.append(nn.Conv2d(in_channels=image_channels, out_channels=n_channels, kernel_size=kernel_size, padding=padding, bias=True))\n",
        "        layers.append(nn.ReLU(inplace=True))\n",
        "        for _ in range(depth-2):\n",
        "            layers.append(nn.Conv2d(in_channels=n_channels, out_channels=n_channels, kernel_size=kernel_size, padding=padding, bias=False))\n",
        "            layers.append(nn.BatchNorm2d(n_channels, eps=0.0001, momentum = 0.95))\n",
        "            layers.append(nn.ReLU(inplace=True))\n",
        "        layers.append(nn.Conv2d(in_channels=n_channels, out_channels=image_channels, kernel_size=kernel_size, padding=padding, bias=False))\n",
        "        self.dncnn = nn.Sequential(*layers)\n",
        "        self._initialize_weights()\n",
        "\n",
        "    def forward(self, x):\n",
        "        y = x\n",
        "        out = self.dncnn(x)\n",
        "        return y-out\n",
        "\n",
        "    def _initialize_weights(self):\n",
        "        for m in self.modules():\n",
        "            if isinstance(m, nn.Conv2d):\n",
        "                init.orthogonal_(m.weight)\n",
        "                print('init weight')\n",
        "                if m.bias is not None:\n",
        "                    init.constant_(m.bias, 0)\n",
        "            elif isinstance(m, nn.BatchNorm2d):\n",
        "                init.constant_(m.weight, 1)\n",
        "                init.constant_(m.bias, 0)"
      ],
      "execution_count": null,
      "outputs": []
    },
    {
      "cell_type": "markdown",
      "metadata": {
        "id": "5BUoi9MS5VuS"
      },
      "source": [
        "## Model Training\n",
        "\n",
        "DnCNN hyper-parameters\n",
        "- 180 epochs\n",
        "- lr (init 1e-3) descent at 30, 60, and 90 epochs (gamma = 0.2)\n",
        "- batch size 128"
      ]
    },
    {
      "cell_type": "code",
      "metadata": {
        "id": "FndjvsIXyJZZ",
        "colab": {
          "base_uri": "https://localhost:8080/"
        },
        "outputId": "1f9977d5-a2db-4edf-ab2c-6acaa3347dc6"
      },
      "source": [
        "num_epochs = 65\n",
        "batch_size = 16\n",
        "model = R2RDenoisingModel(depth=17).to(device)\n",
        "criterion = nn.MSELoss(reduction = 'sum')\n",
        "init_learning_rate = 0.001\n",
        "optimizer = torch.optim.Adam(model.parameters(), init_learning_rate)\n",
        "lr_control = MultiStepLR(optimizer, milestones=[30, 60, 90], gamma=0.2)\n",
        "train_loader = DataLoader(train_dataset, batch_size=batch_size, shuffle=True)"
      ],
      "execution_count": null,
      "outputs": [
        {
          "output_type": "stream",
          "name": "stdout",
          "text": [
            "init weight\n",
            "init weight\n",
            "init weight\n",
            "init weight\n",
            "init weight\n",
            "init weight\n",
            "init weight\n",
            "init weight\n",
            "init weight\n",
            "init weight\n",
            "init weight\n",
            "init weight\n",
            "init weight\n",
            "init weight\n",
            "init weight\n",
            "init weight\n",
            "init weight\n"
          ]
        }
      ]
    },
    {
      "cell_type": "code",
      "metadata": {
        "id": "ju42XxLkynFC",
        "colab": {
          "base_uri": "https://localhost:8080/",
          "height": 416
        },
        "outputId": "d3963544-2cc2-4eb6-d20e-2bcd29d4bce7"
      },
      "source": [
        "for epoch in range(num_epochs):\n",
        "    avg_mse = 0.0\n",
        "    for idx, (y1_batch, y2_batch) in enumerate(train_loader):\n",
        "        optimizer.zero_grad()\n",
        "        model_input = Variable(y1_batch.to(device))\n",
        "        expected_out = Variable(y2_batch.to(device))\n",
        "        out = model(model_input)\n",
        "        loss = criterion(out, expected_out)\n",
        "        loss.backward()\n",
        "        optimizer.step()\n",
        "\n",
        "        batch_mse = criterion(out, expected_out)\n",
        "        avg_mse += batch_mse\n",
        "    avg_mse /= len(train_loader)\n",
        "    print(\"Epoch: \", str(epoch), '\\t', 'Avg MSE: ', str(avg_mse))"
      ],
      "execution_count": null,
      "outputs": [
        {
          "output_type": "error",
          "ename": "RuntimeError",
          "evalue": "ignored",
          "traceback": [
            "\u001b[0;31m---------------------------------------------------------------------------\u001b[0m",
            "\u001b[0;31mRuntimeError\u001b[0m                              Traceback (most recent call last)",
            "\u001b[0;32m<ipython-input-47-980985a73ff5>\u001b[0m in \u001b[0;36m<module>\u001b[0;34m()\u001b[0m\n\u001b[1;32m      5\u001b[0m         \u001b[0mmodel_input\u001b[0m \u001b[0;34m=\u001b[0m \u001b[0mVariable\u001b[0m\u001b[0;34m(\u001b[0m\u001b[0my1_batch\u001b[0m\u001b[0;34m.\u001b[0m\u001b[0mto\u001b[0m\u001b[0;34m(\u001b[0m\u001b[0mdevice\u001b[0m\u001b[0;34m)\u001b[0m\u001b[0;34m)\u001b[0m\u001b[0;34m\u001b[0m\u001b[0;34m\u001b[0m\u001b[0m\n\u001b[1;32m      6\u001b[0m         \u001b[0mexpected_out\u001b[0m \u001b[0;34m=\u001b[0m \u001b[0mVariable\u001b[0m\u001b[0;34m(\u001b[0m\u001b[0my2_batch\u001b[0m\u001b[0;34m.\u001b[0m\u001b[0mto\u001b[0m\u001b[0;34m(\u001b[0m\u001b[0mdevice\u001b[0m\u001b[0;34m)\u001b[0m\u001b[0;34m)\u001b[0m\u001b[0;34m\u001b[0m\u001b[0;34m\u001b[0m\u001b[0m\n\u001b[0;32m----> 7\u001b[0;31m         \u001b[0mout\u001b[0m \u001b[0;34m=\u001b[0m \u001b[0mmodel\u001b[0m\u001b[0;34m(\u001b[0m\u001b[0mmodel_input\u001b[0m\u001b[0;34m)\u001b[0m\u001b[0;34m\u001b[0m\u001b[0;34m\u001b[0m\u001b[0m\n\u001b[0m\u001b[1;32m      8\u001b[0m         \u001b[0mloss\u001b[0m \u001b[0;34m=\u001b[0m \u001b[0mcriterion\u001b[0m\u001b[0;34m(\u001b[0m\u001b[0mout\u001b[0m\u001b[0;34m,\u001b[0m \u001b[0mexpected_out\u001b[0m\u001b[0;34m)\u001b[0m\u001b[0;34m\u001b[0m\u001b[0;34m\u001b[0m\u001b[0m\n\u001b[1;32m      9\u001b[0m         \u001b[0mloss\u001b[0m\u001b[0;34m.\u001b[0m\u001b[0mbackward\u001b[0m\u001b[0;34m(\u001b[0m\u001b[0;34m)\u001b[0m\u001b[0;34m\u001b[0m\u001b[0;34m\u001b[0m\u001b[0m\n",
            "\u001b[0;32m/usr/local/lib/python3.7/dist-packages/torch/nn/modules/module.py\u001b[0m in \u001b[0;36m_call_impl\u001b[0;34m(self, *input, **kwargs)\u001b[0m\n\u001b[1;32m   1100\u001b[0m         if not (self._backward_hooks or self._forward_hooks or self._forward_pre_hooks or _global_backward_hooks\n\u001b[1;32m   1101\u001b[0m                 or _global_forward_hooks or _global_forward_pre_hooks):\n\u001b[0;32m-> 1102\u001b[0;31m             \u001b[0;32mreturn\u001b[0m \u001b[0mforward_call\u001b[0m\u001b[0;34m(\u001b[0m\u001b[0;34m*\u001b[0m\u001b[0minput\u001b[0m\u001b[0;34m,\u001b[0m \u001b[0;34m**\u001b[0m\u001b[0mkwargs\u001b[0m\u001b[0;34m)\u001b[0m\u001b[0;34m\u001b[0m\u001b[0;34m\u001b[0m\u001b[0m\n\u001b[0m\u001b[1;32m   1103\u001b[0m         \u001b[0;31m# Do not call functions when jit is used\u001b[0m\u001b[0;34m\u001b[0m\u001b[0;34m\u001b[0m\u001b[0;34m\u001b[0m\u001b[0m\n\u001b[1;32m   1104\u001b[0m         \u001b[0mfull_backward_hooks\u001b[0m\u001b[0;34m,\u001b[0m \u001b[0mnon_full_backward_hooks\u001b[0m \u001b[0;34m=\u001b[0m \u001b[0;34m[\u001b[0m\u001b[0;34m]\u001b[0m\u001b[0;34m,\u001b[0m \u001b[0;34m[\u001b[0m\u001b[0;34m]\u001b[0m\u001b[0;34m\u001b[0m\u001b[0;34m\u001b[0m\u001b[0m\n",
            "\u001b[0;32m<ipython-input-45-11f77f097656>\u001b[0m in \u001b[0;36mforward\u001b[0;34m(self, x)\u001b[0m\n\u001b[1;32m     18\u001b[0m     \u001b[0;32mdef\u001b[0m \u001b[0mforward\u001b[0m\u001b[0;34m(\u001b[0m\u001b[0mself\u001b[0m\u001b[0;34m,\u001b[0m \u001b[0mx\u001b[0m\u001b[0;34m)\u001b[0m\u001b[0;34m:\u001b[0m\u001b[0;34m\u001b[0m\u001b[0;34m\u001b[0m\u001b[0m\n\u001b[1;32m     19\u001b[0m         \u001b[0my\u001b[0m \u001b[0;34m=\u001b[0m \u001b[0mx\u001b[0m\u001b[0;34m\u001b[0m\u001b[0;34m\u001b[0m\u001b[0m\n\u001b[0;32m---> 20\u001b[0;31m         \u001b[0mout\u001b[0m \u001b[0;34m=\u001b[0m \u001b[0mself\u001b[0m\u001b[0;34m.\u001b[0m\u001b[0mdncnn\u001b[0m\u001b[0;34m(\u001b[0m\u001b[0mx\u001b[0m\u001b[0;34m)\u001b[0m\u001b[0;34m\u001b[0m\u001b[0;34m\u001b[0m\u001b[0m\n\u001b[0m\u001b[1;32m     21\u001b[0m         \u001b[0;32mreturn\u001b[0m \u001b[0my\u001b[0m\u001b[0;34m-\u001b[0m\u001b[0mout\u001b[0m\u001b[0;34m\u001b[0m\u001b[0;34m\u001b[0m\u001b[0m\n\u001b[1;32m     22\u001b[0m \u001b[0;34m\u001b[0m\u001b[0m\n",
            "\u001b[0;32m/usr/local/lib/python3.7/dist-packages/torch/nn/modules/module.py\u001b[0m in \u001b[0;36m_call_impl\u001b[0;34m(self, *input, **kwargs)\u001b[0m\n\u001b[1;32m   1100\u001b[0m         if not (self._backward_hooks or self._forward_hooks or self._forward_pre_hooks or _global_backward_hooks\n\u001b[1;32m   1101\u001b[0m                 or _global_forward_hooks or _global_forward_pre_hooks):\n\u001b[0;32m-> 1102\u001b[0;31m             \u001b[0;32mreturn\u001b[0m \u001b[0mforward_call\u001b[0m\u001b[0;34m(\u001b[0m\u001b[0;34m*\u001b[0m\u001b[0minput\u001b[0m\u001b[0;34m,\u001b[0m \u001b[0;34m**\u001b[0m\u001b[0mkwargs\u001b[0m\u001b[0;34m)\u001b[0m\u001b[0;34m\u001b[0m\u001b[0;34m\u001b[0m\u001b[0m\n\u001b[0m\u001b[1;32m   1103\u001b[0m         \u001b[0;31m# Do not call functions when jit is used\u001b[0m\u001b[0;34m\u001b[0m\u001b[0;34m\u001b[0m\u001b[0;34m\u001b[0m\u001b[0m\n\u001b[1;32m   1104\u001b[0m         \u001b[0mfull_backward_hooks\u001b[0m\u001b[0;34m,\u001b[0m \u001b[0mnon_full_backward_hooks\u001b[0m \u001b[0;34m=\u001b[0m \u001b[0;34m[\u001b[0m\u001b[0;34m]\u001b[0m\u001b[0;34m,\u001b[0m \u001b[0;34m[\u001b[0m\u001b[0;34m]\u001b[0m\u001b[0;34m\u001b[0m\u001b[0;34m\u001b[0m\u001b[0m\n",
            "\u001b[0;32m/usr/local/lib/python3.7/dist-packages/torch/nn/modules/container.py\u001b[0m in \u001b[0;36mforward\u001b[0;34m(self, input)\u001b[0m\n\u001b[1;32m    139\u001b[0m     \u001b[0;32mdef\u001b[0m \u001b[0mforward\u001b[0m\u001b[0;34m(\u001b[0m\u001b[0mself\u001b[0m\u001b[0;34m,\u001b[0m \u001b[0minput\u001b[0m\u001b[0;34m)\u001b[0m\u001b[0;34m:\u001b[0m\u001b[0;34m\u001b[0m\u001b[0;34m\u001b[0m\u001b[0m\n\u001b[1;32m    140\u001b[0m         \u001b[0;32mfor\u001b[0m \u001b[0mmodule\u001b[0m \u001b[0;32min\u001b[0m \u001b[0mself\u001b[0m\u001b[0;34m:\u001b[0m\u001b[0;34m\u001b[0m\u001b[0;34m\u001b[0m\u001b[0m\n\u001b[0;32m--> 141\u001b[0;31m             \u001b[0minput\u001b[0m \u001b[0;34m=\u001b[0m \u001b[0mmodule\u001b[0m\u001b[0;34m(\u001b[0m\u001b[0minput\u001b[0m\u001b[0;34m)\u001b[0m\u001b[0;34m\u001b[0m\u001b[0;34m\u001b[0m\u001b[0m\n\u001b[0m\u001b[1;32m    142\u001b[0m         \u001b[0;32mreturn\u001b[0m \u001b[0minput\u001b[0m\u001b[0;34m\u001b[0m\u001b[0;34m\u001b[0m\u001b[0m\n\u001b[1;32m    143\u001b[0m \u001b[0;34m\u001b[0m\u001b[0m\n",
            "\u001b[0;32m/usr/local/lib/python3.7/dist-packages/torch/nn/modules/module.py\u001b[0m in \u001b[0;36m_call_impl\u001b[0;34m(self, *input, **kwargs)\u001b[0m\n\u001b[1;32m   1100\u001b[0m         if not (self._backward_hooks or self._forward_hooks or self._forward_pre_hooks or _global_backward_hooks\n\u001b[1;32m   1101\u001b[0m                 or _global_forward_hooks or _global_forward_pre_hooks):\n\u001b[0;32m-> 1102\u001b[0;31m             \u001b[0;32mreturn\u001b[0m \u001b[0mforward_call\u001b[0m\u001b[0;34m(\u001b[0m\u001b[0;34m*\u001b[0m\u001b[0minput\u001b[0m\u001b[0;34m,\u001b[0m \u001b[0;34m**\u001b[0m\u001b[0mkwargs\u001b[0m\u001b[0;34m)\u001b[0m\u001b[0;34m\u001b[0m\u001b[0;34m\u001b[0m\u001b[0m\n\u001b[0m\u001b[1;32m   1103\u001b[0m         \u001b[0;31m# Do not call functions when jit is used\u001b[0m\u001b[0;34m\u001b[0m\u001b[0;34m\u001b[0m\u001b[0;34m\u001b[0m\u001b[0m\n\u001b[1;32m   1104\u001b[0m         \u001b[0mfull_backward_hooks\u001b[0m\u001b[0;34m,\u001b[0m \u001b[0mnon_full_backward_hooks\u001b[0m \u001b[0;34m=\u001b[0m \u001b[0;34m[\u001b[0m\u001b[0;34m]\u001b[0m\u001b[0;34m,\u001b[0m \u001b[0;34m[\u001b[0m\u001b[0;34m]\u001b[0m\u001b[0;34m\u001b[0m\u001b[0;34m\u001b[0m\u001b[0m\n",
            "\u001b[0;32m/usr/local/lib/python3.7/dist-packages/torch/nn/modules/batchnorm.py\u001b[0m in \u001b[0;36mforward\u001b[0;34m(self, input)\u001b[0m\n\u001b[1;32m    177\u001b[0m             \u001b[0mbn_training\u001b[0m\u001b[0;34m,\u001b[0m\u001b[0;34m\u001b[0m\u001b[0;34m\u001b[0m\u001b[0m\n\u001b[1;32m    178\u001b[0m             \u001b[0mexponential_average_factor\u001b[0m\u001b[0;34m,\u001b[0m\u001b[0;34m\u001b[0m\u001b[0;34m\u001b[0m\u001b[0m\n\u001b[0;32m--> 179\u001b[0;31m             \u001b[0mself\u001b[0m\u001b[0;34m.\u001b[0m\u001b[0meps\u001b[0m\u001b[0;34m,\u001b[0m\u001b[0;34m\u001b[0m\u001b[0;34m\u001b[0m\u001b[0m\n\u001b[0m\u001b[1;32m    180\u001b[0m         )\n\u001b[1;32m    181\u001b[0m \u001b[0;34m\u001b[0m\u001b[0m\n",
            "\u001b[0;32m/usr/local/lib/python3.7/dist-packages/torch/nn/functional.py\u001b[0m in \u001b[0;36mbatch_norm\u001b[0;34m(input, running_mean, running_var, weight, bias, training, momentum, eps)\u001b[0m\n\u001b[1;32m   2281\u001b[0m \u001b[0;34m\u001b[0m\u001b[0m\n\u001b[1;32m   2282\u001b[0m     return torch.batch_norm(\n\u001b[0;32m-> 2283\u001b[0;31m         \u001b[0minput\u001b[0m\u001b[0;34m,\u001b[0m \u001b[0mweight\u001b[0m\u001b[0;34m,\u001b[0m \u001b[0mbias\u001b[0m\u001b[0;34m,\u001b[0m \u001b[0mrunning_mean\u001b[0m\u001b[0;34m,\u001b[0m \u001b[0mrunning_var\u001b[0m\u001b[0;34m,\u001b[0m \u001b[0mtraining\u001b[0m\u001b[0;34m,\u001b[0m \u001b[0mmomentum\u001b[0m\u001b[0;34m,\u001b[0m \u001b[0meps\u001b[0m\u001b[0;34m,\u001b[0m \u001b[0mtorch\u001b[0m\u001b[0;34m.\u001b[0m\u001b[0mbackends\u001b[0m\u001b[0;34m.\u001b[0m\u001b[0mcudnn\u001b[0m\u001b[0;34m.\u001b[0m\u001b[0menabled\u001b[0m\u001b[0;34m\u001b[0m\u001b[0;34m\u001b[0m\u001b[0m\n\u001b[0m\u001b[1;32m   2284\u001b[0m     )\n\u001b[1;32m   2285\u001b[0m \u001b[0;34m\u001b[0m\u001b[0m\n",
            "\u001b[0;31mRuntimeError\u001b[0m: CUDA out of memory. Tried to allocate 254.00 MiB (GPU 0; 15.90 GiB total capacity; 13.41 GiB already allocated; 75.75 MiB free; 14.83 GiB reserved in total by PyTorch) If reserved memory is >> allocated memory try setting max_split_size_mb to avoid fragmentation.  See documentation for Memory Management and PYTORCH_CUDA_ALLOC_CONF"
          ]
        }
      ]
    },
    {
      "cell_type": "markdown",
      "metadata": {
        "id": "NheWqmgxYyd6"
      },
      "source": [
        "# Test Model Peformance\n",
        "\n",
        "Test model performance on the test dataset given trained model"
      ]
    },
    {
      "cell_type": "code",
      "metadata": {
        "id": "ZqnMCBd9Coyp"
      },
      "source": [
        "torch.cuda.empty_cache()"
      ],
      "execution_count": null,
      "outputs": []
    },
    {
      "cell_type": "code",
      "metadata": {
        "colab": {
          "base_uri": "https://localhost:8080/"
        },
        "id": "xQwRaBrggc6X",
        "outputId": "1fb8f3ea-b7ac-452f-add8-ab8367be884e"
      },
      "source": [
        "test_loader = DataLoader(test_dataset, shuffle=True)\n",
        "avg_test_loss = 0\n",
        "for idx, (y1, y2) in enumerate(test_loader):\n",
        "    model_input = y1.to(device)\n",
        "    expected_out = y2.to(device)\n",
        "    out = model(model_input)\n",
        "    loss = criterion(out, expected_out)\n",
        "    print(loss)\n",
        "    avg_test_loss += loss\n",
        "avg_test_loss /= len(test_dataset)"
      ],
      "execution_count": null,
      "outputs": [
        {
          "output_type": "stream",
          "name": "stdout",
          "text": [
            "tensor(1926.7646, device='cuda:0', grad_fn=<MseLossBackward0>)\n",
            "tensor(1694.3232, device='cuda:0', grad_fn=<MseLossBackward0>)\n",
            "tensor(1983.7131, device='cuda:0', grad_fn=<MseLossBackward0>)\n",
            "tensor(1637.8256, device='cuda:0', grad_fn=<MseLossBackward0>)\n",
            "tensor(1666.4276, device='cuda:0', grad_fn=<MseLossBackward0>)\n",
            "tensor(2286.1284, device='cuda:0', grad_fn=<MseLossBackward0>)\n",
            "tensor(1846.8759, device='cuda:0', grad_fn=<MseLossBackward0>)\n",
            "tensor(1713.4760, device='cuda:0', grad_fn=<MseLossBackward0>)\n",
            "tensor(1664.7616, device='cuda:0', grad_fn=<MseLossBackward0>)\n",
            "tensor(1713.2073, device='cuda:0', grad_fn=<MseLossBackward0>)\n",
            "tensor(1708.3903, device='cuda:0', grad_fn=<MseLossBackward0>)\n",
            "tensor(1616.5261, device='cuda:0', grad_fn=<MseLossBackward0>)\n",
            "tensor(1891.2595, device='cuda:0', grad_fn=<MseLossBackward0>)\n",
            "tensor(1664.6321, device='cuda:0', grad_fn=<MseLossBackward0>)\n",
            "tensor(1767.1332, device='cuda:0', grad_fn=<MseLossBackward0>)\n",
            "tensor(1693.3638, device='cuda:0', grad_fn=<MseLossBackward0>)\n",
            "tensor(1832.7883, device='cuda:0', grad_fn=<MseLossBackward0>)\n",
            "tensor(1734.1913, device='cuda:0', grad_fn=<MseLossBackward0>)\n",
            "tensor(1681.7480, device='cuda:0', grad_fn=<MseLossBackward0>)\n",
            "tensor(1601.0330, device='cuda:0', grad_fn=<MseLossBackward0>)\n",
            "tensor(1691.9548, device='cuda:0', grad_fn=<MseLossBackward0>)\n",
            "tensor(1669.8540, device='cuda:0', grad_fn=<MseLossBackward0>)\n",
            "tensor(1880.2256, device='cuda:0', grad_fn=<MseLossBackward0>)\n",
            "tensor(1748.5094, device='cuda:0', grad_fn=<MseLossBackward0>)\n",
            "tensor(1771.3123, device='cuda:0', grad_fn=<MseLossBackward0>)\n",
            "tensor(1652.9296, device='cuda:0', grad_fn=<MseLossBackward0>)\n",
            "tensor(1621.6573, device='cuda:0', grad_fn=<MseLossBackward0>)\n",
            "tensor(1688.5364, device='cuda:0', grad_fn=<MseLossBackward0>)\n",
            "tensor(1853.3875, device='cuda:0', grad_fn=<MseLossBackward0>)\n",
            "tensor(1823.3391, device='cuda:0', grad_fn=<MseLossBackward0>)\n",
            "tensor(1885.0398, device='cuda:0', grad_fn=<MseLossBackward0>)\n",
            "tensor(1686.9297, device='cuda:0', grad_fn=<MseLossBackward0>)\n",
            "tensor(1669.1809, device='cuda:0', grad_fn=<MseLossBackward0>)\n",
            "tensor(2715.8311, device='cuda:0', grad_fn=<MseLossBackward0>)\n",
            "tensor(1842.1777, device='cuda:0', grad_fn=<MseLossBackward0>)\n",
            "tensor(2127.3940, device='cuda:0', grad_fn=<MseLossBackward0>)\n",
            "tensor(1737.4585, device='cuda:0', grad_fn=<MseLossBackward0>)\n",
            "tensor(1643.5466, device='cuda:0', grad_fn=<MseLossBackward0>)\n",
            "tensor(1671.9753, device='cuda:0', grad_fn=<MseLossBackward0>)\n",
            "tensor(1693.2544, device='cuda:0', grad_fn=<MseLossBackward0>)\n"
          ]
        }
      ]
    },
    {
      "cell_type": "markdown",
      "metadata": {
        "id": "h0BM-r6vGaNo"
      },
      "source": [
        "# Testing with BSD68 dataset"
      ]
    },
    {
      "cell_type": "code",
      "metadata": {
        "id": "xDD_DH5mG4IW"
      },
      "source": [
        "test_img_path = '/content/CBSD68-dataset/CBSD68/noisy25'\n",
        "test_gt_path = '/content/CBSD68-dataset/CBSD68/original_png'\n",
        "test_imgs_list = os.listdir(test_img_path)\n",
        "test_gt_list = os.listdir(test_gt_path)\n",
        "\n",
        "N_test = 68\n",
        "H_test_raw = 321\n",
        "W_test_raw = 481\n",
        "uncropped_test = torch.zeros(N_test, H_test_raw, W_test_raw)\n",
        "uncropped_ground_truth = torch.zeros(N_test, H_test_raw, W_test_raw)\n",
        "\n",
        "for i, img_name in enumerate(test_imgs_list):\n",
        "    full_img_path = test_img_path + '/' + img_name\n",
        "    full_gt_path = test_gt_path + '/' + test_gt_list[i]\n",
        "    img = cv2.imread(full_img_path, 0) / 255.0\n",
        "    gt = cv2.imread(full_gt_path, 0) / 255.0\n",
        "    if img.shape[0] > img.shape[1]:\n",
        "        img = img.T\n",
        "    if gt.shape[0] > gt.shape[1]:\n",
        "        gt = gt.T\n",
        "    uncropped_test[i] = torch.from_numpy(img)\n",
        "    uncropped_ground_truth[i] = torch.from_numpy(gt)"
      ],
      "execution_count": null,
      "outputs": []
    },
    {
      "cell_type": "code",
      "metadata": {
        "id": "Ozj5UZrMnX8N"
      },
      "source": [
        "import random\n",
        "test_images = torch.zeros(N_test, H, W)\n",
        "ground_truth = torch.zeros(N_test, H, W)\n",
        "for i in range(N_test):\n",
        "    rand_row_start = random.randint(0, H_test_raw - H - 1)\n",
        "    rand_col_start = random.randint(0, W_test_raw - W - 1)\n",
        "    test_images[i] = uncropped_test[i][rand_row_start: rand_row_start + H, rand_col_start: rand_col_start + W]\n",
        "    ground_truth[i] = uncropped_ground_truth[i][rand_row_start: rand_row_start + H, rand_col_start: rand_col_start + W]"
      ],
      "execution_count": null,
      "outputs": []
    },
    {
      "cell_type": "markdown",
      "metadata": {
        "id": "WNXdRIykv-U9"
      },
      "source": [
        "### Generate model input "
      ]
    },
    {
      "cell_type": "code",
      "metadata": {
        "id": "aPcsCzm7uf0D"
      },
      "source": [
        "def generate_recorrupted_tensor(test_img, T = 50, noise_level = 25.0, alpha = 0.5):\n",
        "    '''\n",
        "    test_img: the image which we test the denoising model on\n",
        "    T: number of forward passes to estimate\n",
        "    '''\n",
        "    D = alpha * torch.eye(H)\n",
        "    recorrupted_samples = torch.zeros(T, 1, H, W)\n",
        "    '''\n",
        "    cov = torch.cov(test_img)\n",
        "    L, V = torch.linalg.eig(cov)\n",
        "    diag = sqrtm(torch.diag(L))\n",
        "    '''\n",
        "    sigma = (noise_level / 255.0) * torch.eye(H)\n",
        "    A = torch.matmul(sigma, torch.transpose(D, 0, 1))\n",
        "    for t in range(T):\n",
        "        model_input = torch.unsqueeze(test_img, 0) \n",
        "        z_t = torch.randn(H, W)\n",
        "        model_input = torch.unsqueeze(model_input + torch.matmul(A, z_t), 0)\n",
        "        recorrupted_samples[t] = model_input\n",
        "    return recorrupted_samples"
      ],
      "execution_count": null,
      "outputs": []
    },
    {
      "cell_type": "markdown",
      "metadata": {
        "id": "lbZVI_Gfv5BR"
      },
      "source": [
        "### Calculate restored images"
      ]
    },
    {
      "cell_type": "code",
      "metadata": {
        "colab": {
          "base_uri": "https://localhost:8080/",
          "height": 609
        },
        "id": "dHZdytQ5gdp0",
        "outputId": "5cc0b877-b787-4415-dfa0-2a05a0869c05"
      },
      "source": [
        "test_img = 60\n",
        "T = 50\n",
        "recorrupted_tensor = generate_recorrupted_tensor(test_images[test_img])\n",
        "restored_samples = torch.zeros(T, 1, H, W)\n",
        "\n",
        "for t in range(T):\n",
        "    model_input = torch.unsqueeze(recorrupted_tensor[t], 0).to(device)\n",
        "    model_out = torch.squeeze(model(model_input), 0)\n",
        "    restored_samples[t] = model_out.cpu().detach()\n",
        "    \n",
        "model_output = torch.squeeze(torch.mean(restored_samples, 0)).numpy()\n",
        "model_output = 255.0 * model_output\n",
        "viewable = model_output.astype(int)\n",
        "print(\"NOISY\")\n",
        "orig = cv2_imshow(test_images[test_img].numpy() * 255.0)\n",
        "print(\"RECONSTRUCTED CLEAN IMAGE\")\n",
        "img = cv2_imshow(viewable)\n",
        "print(\"CLEAN IMAGE\")\n",
        "clean = cv2_imshow(ground_truth[test_img].numpy() * 255.0)"
      ],
      "execution_count": null,
      "outputs": [
        {
          "output_type": "stream",
          "name": "stdout",
          "text": [
            "NOISY\n"
          ]
        },
        {
          "output_type": "display_data",
          "data": {
            "image/png": "[encoded data removed]",
            "text/plain": [
              "<PIL.Image.Image image mode=L size=180x180 at 0x7F770A1E6610>"
            ]
          },
          "metadata": {}
        },
        {
          "output_type": "stream",
          "name": "stdout",
          "text": [
            "RECONSTRUCTED CLEAN IMAGE\n"
          ]
        },
        {
          "output_type": "display_data",
          "data": {
            "image/png": "[encoded data removed]",
            "text/plain": [
              "<PIL.Image.Image image mode=L size=180x180 at 0x7F770A1E6590>"
            ]
          },
          "metadata": {}
        },
        {
          "output_type": "stream",
          "name": "stdout",
          "text": [
            "CLEAN IMAGE\n"
          ]
        },
        {
          "output_type": "display_data",
          "data": {
            "image/png": "[encoded data removed]",
            "text/plain": [
              "<PIL.Image.Image image mode=L size=180x180 at 0x7F770A1E6A10>"
            ]
          },
          "metadata": {}
        }
      ]
    },
    {
      "cell_type": "markdown",
      "metadata": {
        "id": "rK2fEK3b1jcg"
      },
      "source": [
        "### Statistics"
      ]
    },
    {
      "cell_type": "code",
      "metadata": {
        "id": "LVvv30G50mvw"
      },
      "source": [
        "from skimage import metrics"
      ],
      "execution_count": null,
      "outputs": []
    },
    {
      "cell_type": "code",
      "metadata": {
        "colab": {
          "base_uri": "https://localhost:8080/"
        },
        "id": "m3TXct4-2Hvk",
        "outputId": "31c98d05-357a-4d87-fcb4-08a47f59580d"
      },
      "source": [
        "metrics.peak_signal_noise_ratio(ground_truth[test_img].numpy() * 255.0, model_output, data_range=255)"
      ],
      "execution_count": null,
      "outputs": [
        {
          "output_type": "execute_result",
          "data": {
            "text/plain": [
              "25.66469017318747"
            ]
          },
          "metadata": {},
          "execution_count": 42
        }
      ]
    },
    {
      "cell_type": "code",
      "metadata": {
        "colab": {
          "base_uri": "https://localhost:8080/"
        },
        "id": "exxfG4E18PZI",
        "outputId": "5da72d3a-a8f8-4254-9611-29456863cc80"
      },
      "source": [
        "metrics.structural_similarity(ground_truth[test_img].numpy() * 255.0, model_output)"
      ],
      "execution_count": null,
      "outputs": [
        {
          "output_type": "execute_result",
          "data": {
            "text/plain": [
              "0.5095937854260159"
            ]
          },
          "metadata": {},
          "execution_count": 43
        }
      ]
    },
    {
      "cell_type": "code",
      "metadata": {
        "id": "l4FTyoeI8wvM"
      },
      "source": [
        ""
      ],
      "execution_count": null,
      "outputs": []
    }
  ]
}